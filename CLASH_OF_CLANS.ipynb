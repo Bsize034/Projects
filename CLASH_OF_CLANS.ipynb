{
 "cells": [
  {
   "cell_type": "markdown",
   "metadata": {},
   "source": [
    "Clash of Clans queue project"
   ]
  },
  {
   "cell_type": "code",
   "execution_count": 11,
   "metadata": {},
   "outputs": [],
   "source": [
    "class Queue:\n",
    "    def __init__(self):\n",
    "        self.items = []\n",
    "\n",
    "    def isEmpty(self):\n",
    "        return self.items == []\n",
    "\n",
    "    def enqueue(self, item):\n",
    "        self.items.insert(0,item)\n",
    "            \n",
    "    def dequeue(self):\n",
    "        return self.items.pop()\n",
    "\n",
    "    def size(self):\n",
    "        return len(self.items)\n",
    "    \n",
    "    def show(self):\n",
    "        return self.items\n",
    "            \n",
    "    def peek(self):\n",
    "         return self.items[len(self.items)-1]"
   ]
  },
  {
   "cell_type": "code",
   "execution_count": 12,
   "metadata": {},
   "outputs": [],
   "source": [
    "class Troops:\n",
    "    \n",
    "    def __init__(self, name, training_time, housing_space):\n",
    "        \n",
    "        self.name = name\n",
    "        self.training_time = training_time\n",
    "        self.housing_space = housing_space\n",
    "        \n",
    "    def __str__(self):\n",
    "        return self.name\n",
    "        \n",
    "barbarian = Troops(\"Barbarian\",5,1)\n",
    "archer = Troops(\"Archer\",6,1)\n",
    "goblin = Troops(\"Goblin\",7,1)\n",
    "giant = Troops(\"Giant\",30,5)\n",
    "\n",
    "      "
   ]
  },
  {
   "cell_type": "code",
   "execution_count": 25,
   "metadata": {},
   "outputs": [],
   "source": [
    "import time\n",
    "\n",
    "def timer(queue, alist, troop_time):\n",
    "    while True:\n",
    "        uni = troop_time\n",
    "        try:\n",
    "                when_to_stop = abs(int(uni))\n",
    "        except KeyboardInterrupt:\n",
    "            break\n",
    "        camp = dict()\n",
    "        count = 0\n",
    "        print(\"Training Queue:\",([str(x) for x in queue.show()]))\n",
    "        print(\"Your army is empty! Wait until your troops are done training!\")\n",
    "        while when_to_stop >= 0:\n",
    "            m, s = divmod(when_to_stop, 60)\n",
    "            h, m = divmod(m, 60)\n",
    "            time_left = str(h).zfill(2) + \":\" + str(m).zfill(2) + \":\" + str(s).zfill(2)\n",
    "            print(\"Time Remaining:\", time_left + \"\\r\", end = \"\")\n",
    "            time.sleep(1)\n",
    "            count += 1\n",
    "            if len(alist) > 0 and count == alist[0]:\n",
    "                alist.pop(0)\n",
    "                word = str(queue.dequeue())\n",
    "                if word in camp:\n",
    "                    camp[word] += 1\n",
    "                else:\n",
    "                    camp[word] = 1 \n",
    "                \n",
    "                if queue.isEmpty() != True:\n",
    "                    print('Training Queue:', [str(x) for x in queue.show()])\n",
    "                    print('Current Army:',camp)\n",
    "                    \n",
    "                else:\n",
    "                    print('Final Army', camp)\n",
    "                count = 0\n",
    " \n",
    "            when_to_stop -= 1\n",
    "            \n",
    "        else:\n",
    "            return 'Your army is finished training!', camp\n",
    "\n",
    "    "
   ]
  },
  {
   "cell_type": "code",
   "execution_count": 26,
   "metadata": {},
   "outputs": [],
   "source": [
    "def train(): \n",
    "    \n",
    "    tq = Queue()\n",
    "\n",
    "    num_barbarian = int(input(\"How many Barbarians do you want to train? \"))\n",
    "    num_archer = int(input(\"How many Archers do you want to train? \"))\n",
    "    num_goblin = int(input(\"How many Goblins do you want to train? \"))\n",
    "    num_giant = int(input(\"How many Giants do you want to train? \"))\n",
    "\n",
    "    \n",
    "    housing = (barbarian.housing_space * num_barbarian) + (archer.housing_space * num_archer)\\\n",
    "            + (goblin.housing_space * num_goblin) + (giant.housing_space * num_giant)\n",
    "        \n",
    "    total_time = (barbarian.training_time * num_barbarian) + (archer.training_time * num_archer)\\\n",
    "            + (goblin.training_time * num_goblin) + (giant.training_time * num_giant)\n",
    "   \n",
    "    times = []\n",
    "    \n",
    "    if housing > 200:\n",
    "        return 'You have tried to train too many troops! You can only have a max of 200 housing space in your army camps!'\n",
    "    else:\n",
    "        for i in range(num_barbarian):\n",
    "            tq.enqueue(Troops(\"Barbarian\",5,1))\n",
    "            times.append(barbarian.training_time)\n",
    "        for i in range(num_archer):\n",
    "            tq.enqueue(Troops(\"Archer\",6,1))\n",
    "            times.append(archer.training_time)\n",
    "        for i in range(num_goblin):\n",
    "            tq.enqueue(Troops(\"Goblin\",7,1))\n",
    "            times.append(goblin.training_time)\n",
    "        for i in range(num_giant):\n",
    "            tq.enqueue(Troops(\"Giant\",30,5))\n",
    "            times.append(giant.training_time)\n",
    "\n",
    "    \n",
    "    return timer(tq, times, total_time)\n"
   ]
  },
  {
   "cell_type": "code",
   "execution_count": 31,
   "metadata": {},
   "outputs": [
    {
     "name": "stdout",
     "output_type": "stream",
     "text": [
      "How many Barbarians do you want to train? 2\n",
      "How many Archers do you want to train? 1\n",
      "How many Goblins do you want to train? 0\n",
      "How many Giants do you want to train? 1\n",
      "Training Queue: ['Giant', 'Archer', 'Barbarian', 'Barbarian']\n",
      "Your army is empty! Wait until your troops are done training!\n",
      "Training Queue: ['Giant', 'Archer', 'Barbarian']\n",
      "Current Army: {'Barbarian': 1}\n",
      "Training Queue: ['Giant', 'Archer']\n",
      "Current Army: {'Barbarian': 2}\n",
      "Training Queue: ['Giant']\n",
      "Current Army: {'Archer': 1, 'Barbarian': 2}\n",
      "Final Army {'Giant': 1, 'Archer': 1, 'Barbarian': 2}\n",
      "Time Remaining: 00:00:00\r"
     ]
    },
    {
     "data": {
      "text/plain": [
       "('Your army is finished training!', {'Archer': 1, 'Barbarian': 2, 'Giant': 1})"
      ]
     },
     "execution_count": 31,
     "metadata": {},
     "output_type": "execute_result"
    }
   ],
   "source": [
    "#Train your troops Here!\n",
    "#Remember your max housing space for troop is 200\n",
    "\n",
    "train()\n",
    "\n"
   ]
  },
  {
   "cell_type": "code",
   "execution_count": null,
   "metadata": {},
   "outputs": [],
   "source": []
  },
  {
   "cell_type": "code",
   "execution_count": null,
   "metadata": {},
   "outputs": [],
   "source": []
  }
 ],
 "metadata": {
  "kernelspec": {
   "display_name": "Python 3",
   "language": "python",
   "name": "python3"
  },
  "language_info": {
   "codemirror_mode": {
    "name": "ipython",
    "version": 3
   },
   "file_extension": ".py",
   "mimetype": "text/x-python",
   "name": "python",
   "nbconvert_exporter": "python",
   "pygments_lexer": "ipython3",
   "version": "3.5.1"
  }
 },
 "nbformat": 4,
 "nbformat_minor": 2
}
